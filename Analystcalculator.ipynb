{
 "cells": [
  {
   "cell_type": "code",
   "execution_count": 1,
   "id": "1637ed93-70de-4a85-81ee-5e719d0c1c2a",
   "metadata": {},
   "outputs": [
    {
     "name": "stdout",
     "output_type": "stream",
     "text": [
      "Enter 'A' for Addition.\n",
      "Enter 'S' for Subtraction.\n",
      "Enter 'M' for Multiplication.\n",
      "Enter 'D' for Division.\n"
     ]
    },
    {
     "name": "stdin",
     "output_type": "stream",
     "text": [
      "Enter Choice: (A,S,M,D):  A\n",
      "Enter Choice: (A,S,M,D):  855\n"
     ]
    },
    {
     "name": "stdout",
     "output_type": "stream",
     "text": [
      "Invalid choice\n"
     ]
    },
    {
     "name": "stdin",
     "output_type": "stream",
     "text": [
      "Wanna keep going? (yes/no?):  yes\n",
      "Enter Choice: (A,S,M,D):  A\n",
      "Enter first number:  755\n",
      "Enter second number:  876\n"
     ]
    },
    {
     "name": "stdout",
     "output_type": "stream",
     "text": [
      "755.0 + 876.0 = 1631.0\n"
     ]
    },
    {
     "name": "stdin",
     "output_type": "stream",
     "text": [
      "Wanna keep going? (yes/no?):  no\n"
     ]
    }
   ],
   "source": [
    "def add(x, y):\n",
    "    return x + y\n",
    "\n",
    "def subtract(x, y):\n",
    "    return x - y\n",
    "\n",
    "def multiply(x, y):\n",
    "    return x * y\n",
    "\n",
    "def divide(x, y):\n",
    "    return x / y\n",
    "\n",
    "print(\"Enter 'A' for Addition.\")\n",
    "print(\"Enter 'S' for Subtraction.\")\n",
    "print(\"Enter 'M' for Multiplication.\")\n",
    "print(\"Enter 'D' for Division.\")\n",
    "\n",
    "choice = input('Enter Choice: (A,S,M,D): ')\n",
    "\n",
    "while True:\n",
    "    choice = input('Enter Choice: (A,S,M,D): ')\n",
    "    \n",
    "    if choice.upper() in ('A', 'ADD', 'ADDITION', 'S', 'SUBTRACT', 'SUBTRACTION', 'M', 'MULTIPLY', 'MULTIPLICATION', 'D', 'DIVIDE', 'DIVISION'):\n",
    "        num1 = float(input('Enter first number: '))\n",
    "        num2 = float(input('Enter second number: '))\n",
    "    \n",
    "        if choice.upper() in ('A', 'ADD', 'ADDITION'):\n",
    "            print(num1, '+', num2, '=', add(num1, num2))\n",
    "        elif choice.upper() in ('S', 'SUBTRACT', 'SUBTRACTION'):\n",
    "            print(num1, '-', num2, '=', subtract(num1, num2))\n",
    "        elif choice.upper() in ('M', 'MULTIPLY', 'MULTIPLICATION'):\n",
    "            print(num1, '*', num2, '=', multiply(num1, num2))\n",
    "        elif choice.upper() in ('D', 'DIVIDE', 'DIVISION'):\n",
    "            print(num1, '/', num2, '=', divide(num1, num2))\n",
    "    else:\n",
    "        print(\"Invalid choice\")\n",
    "\n",
    "    next_calculation = input(\"Wanna keep going? (yes/no?): \")\n",
    "    if next_calculation.lower() in ('no', 'n','nope'):\n",
    "        break\n"
   ]
  },
  {
   "cell_type": "code",
   "execution_count": null,
   "id": "24ce31e3-6fcf-440d-8e67-242658d1fe6d",
   "metadata": {},
   "outputs": [],
   "source": []
  }
 ],
 "metadata": {
  "kernelspec": {
   "display_name": "anaconda-panel-2023.05-py310",
   "language": "python",
   "name": "conda-env-anaconda-panel-2023.05-py310-py"
  },
  "language_info": {
   "codemirror_mode": {
    "name": "ipython",
    "version": 3
   },
   "file_extension": ".py",
   "mimetype": "text/x-python",
   "name": "python",
   "nbconvert_exporter": "python",
   "pygments_lexer": "ipython3",
   "version": "3.11.5"
  }
 },
 "nbformat": 4,
 "nbformat_minor": 5
}
